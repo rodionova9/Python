{
 "cells": [
  {
   "cell_type": "code",
   "execution_count": 3,
   "metadata": {},
   "outputs": [
    {
     "name": "stdout",
     "output_type": "stream",
     "text": [
      "Введите дату и время часа X в формате ДД.ММ.ГГГГ ЧЧ:ММ12.11.2022 13:45\n",
      "До часа \"Икс\" 562 дня и 14 часов\n"
     ]
    }
   ],
   "source": [
    "import datetime\n",
    "\n",
    "# Функция из урока \"Выбор формы существительного\"\n",
    "def choose_plural(amount, variants):\n",
    "    if amount % 10 == 1 and amount % 100 != 11:\n",
    "        variant = 0\n",
    "    elif amount % 10 >= 2 and amount % 10 <= 4 and \\\n",
    "            (amount % 100 < 10 or amount % 100 >= 20):\n",
    "        variant = 1\n",
    "    else:\n",
    "        variant = 2\n",
    "    return '{} {}'.format(amount, variants[variant])\n",
    "\n",
    "try:\n",
    "    # Получаем и преобразуем нужные данные от пользователя\n",
    "    datetime_str = input('Введите дату и время часа X в формате ДД.ММ.ГГГГ ЧЧ:ММ')\n",
    "    date_x = datetime.datetime.strptime(datetime_str,'%d.%m.%Y %H:%M')\n",
    "    date_now = datetime.datetime.now().replace(second=0, microsecond=0)\n",
    "\n",
    "    # Программа должна начать выполнять эту часть кода \n",
    "    # только если дата часа \"Икс\" больше текущей даты\n",
    "    if date_x > date_now:\n",
    "        delta = date_x - date_now\n",
    "        # Получаем количество дней, часов и минут, \n",
    "        # оставшихся до часа \"Икс\"\n",
    "        days = delta.days\n",
    "        hours = delta.seconds // 3600\n",
    "        minutes = (delta.seconds - hours * 3600) // 60\n",
    "        result = ''\n",
    "        # Нужная строка формируется согласно условию задачи\n",
    "        if days > 0:\n",
    "            result = choose_plural(days, ('день', 'дня', 'дней'))\n",
    "            if hours > 0:\n",
    "                result += ' и ' + choose_plural(hours, (' час', 'часа', 'часов'))\n",
    "        elif hours > 0:\n",
    "            result = choose_plural(hours, ('час', 'часа', 'часов'))\n",
    "            if minutes > 0:\n",
    "                result += ' и ' + choose_plural(minutes, ('минута', 'минуты', 'минут'))\n",
    "        else:\n",
    "            result = choose_plural(minutes, ('минута', 'минуты', 'минут'))\n",
    "        print('До часа \"Икс\" ' + result)\n",
    "    else:\n",
    "        print('Ошибка')\n",
    "except ValueError:\n",
    "    # Если пользователь введет дату не по формату,\n",
    "    # отработает этот обработчик исключения\n",
    "    print('Ошибка')"
   ]
  },
  {
   "cell_type": "code",
   "execution_count": null,
   "metadata": {},
   "outputs": [],
   "source": []
  }
 ],
 "metadata": {
  "kernelspec": {
   "display_name": "Python 3",
   "language": "python",
   "name": "python3"
  },
  "language_info": {
   "codemirror_mode": {
    "name": "ipython",
    "version": 3
   },
   "file_extension": ".py",
   "mimetype": "text/x-python",
   "name": "python",
   "nbconvert_exporter": "python",
   "pygments_lexer": "ipython3",
   "version": "3.8.5"
  }
 },
 "nbformat": 4,
 "nbformat_minor": 4
}
