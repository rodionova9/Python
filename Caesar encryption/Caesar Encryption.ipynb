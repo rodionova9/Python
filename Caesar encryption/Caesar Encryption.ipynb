{
 "cells": [
  {
   "cell_type": "code",
   "execution_count": 1,
   "metadata": {},
   "outputs": [
    {
     "name": "stdout",
     "output_type": "stream",
     "text": [
      "ФХНЖЙЧ WORLD!\n",
      "ПРИВЕТ WORLD!\n"
     ]
    }
   ],
   "source": [
    "alphabet = 'АБВГДЕЁЖЗИЙКЛМНОПРСТУФХЦЧШЩЪЫЬЭЮЯ'\n",
    "\n",
    "def encrypt(message, k):\n",
    "    encrypted_list = [] \n",
    "    for letter in message.upper():\n",
    "        index = alphabet.find(letter) # Ищем каждую букву из мессежда в алфавите, получаем ее индекс в алфавите\n",
    "\n",
    "        # Если нашли, добавляем в список букву из алфавита, смещенную от ее индекса на К, но т.к. нужна\n",
    "        # \"закольцованность\" строки при смещении, нужно найти остаток от деления на длину алфавита. Напр, 35 % 33 = 2\n",
    "        if index != -1: encrypted_list.append(alphabet[(index + k) % len(alphabet)])\n",
    "        # Если же символа из месседжа нет в алфавите, добавляем его в список \"как есть\":\n",
    "        else: encrypted_list.append(letter)\n",
    "    return ''.join(encrypted_list)    # Возвращаем приведенный к строке список\n",
    "\n",
    "message = \"Привет world!\"\n",
    "encrypted_message = encrypt(message, 5)\n",
    "decrypted_message = encrypt(encrypted_message, -5)\n",
    "print(encrypted_message)\n",
    "print(decrypted_message)"
   ]
  },
  {
   "cell_type": "code",
   "execution_count": null,
   "metadata": {},
   "outputs": [],
   "source": []
  }
 ],
 "metadata": {
  "kernelspec": {
   "display_name": "Python 3",
   "language": "python",
   "name": "python3"
  },
  "language_info": {
   "codemirror_mode": {
    "name": "ipython",
    "version": 3
   },
   "file_extension": ".py",
   "mimetype": "text/x-python",
   "name": "python",
   "nbconvert_exporter": "python",
   "pygments_lexer": "ipython3",
   "version": "3.8.5"
  }
 },
 "nbformat": 4,
 "nbformat_minor": 4
}
